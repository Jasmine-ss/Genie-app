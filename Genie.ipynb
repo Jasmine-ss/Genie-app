{
 "cells": [
  {
   "cell_type": "code",
   "execution_count": 3,
   "metadata": {},
   "outputs": [],
   "source": [
    "using Genie"
   ]
  },
  {
   "cell_type": "code",
   "execution_count": 4,
   "metadata": {},
   "outputs": [
    {
     "ename": "LoadError",
     "evalue": "IOError: unlink: permission denied (EACCES)",
     "output_type": "error",
     "traceback": [
      "IOError: unlink: permission denied (EACCES)",
      "",
      "Stacktrace:",
      " [1] uv_error at .\\libuv.jl:97 [inlined]",
      " [2] unlink(::String) at .\\file.jl:918",
      " [3] rm(::String; force::Bool, recursive::Bool) at .\\file.jl:268",
      " [4] remove_fingerprint_initializer at C:\\Users\\Jasmine\\.julia\\packages\\Genie\\1Ew9d\\src\\Generator.jl:419 [inlined]",
      " [5] microstack_app(::String, ::String) at C:\\Users\\Jasmine\\.julia\\packages\\Genie\\1Ew9d\\src\\Generator.jl:313",
      " [6] newapp(::String; autostart::Bool, fullstack::Bool, dbsupport::Bool, mvcsupport::Bool, testmode::Bool) at C:\\Users\\Jasmine\\.julia\\packages\\Genie\\1Ew9d\\src\\Generator.jl:480",
      " [7] newapp(::String) at C:\\Users\\Jasmine\\.julia\\packages\\Genie\\1Ew9d\\src\\Generator.jl:477",
      " [8] top-level scope at In[4]:1",
      " [9] include_string(::Function, ::Module, ::String, ::String) at .\\loading.jl:1091"
     ]
    }
   ],
   "source": [
    "Genie.newapp(\"HelloGenie\")"
   ]
  },
  {
   "cell_type": "code",
   "execution_count": null,
   "metadata": {},
   "outputs": [],
   "source": []
  }
 ],
 "metadata": {
  "kernelspec": {
   "display_name": "Julia 1.5.3",
   "language": "julia",
   "name": "julia-1.5"
  },
  "language_info": {
   "file_extension": ".jl",
   "mimetype": "application/julia",
   "name": "julia",
   "version": "1.5.3"
  }
 },
 "nbformat": 4,
 "nbformat_minor": 4
}
